{
 "cells": [
  {
   "cell_type": "markdown",
   "metadata": {},
   "source": [
    "# Intro to physics problem solving using python\n",
    "\n",
    "Author: Arunabha Guha\n",
    "\n",
    "To solve some physics problems numerically, the students are encouraged to learn python. This is a basic introduction to python 3.7.1 using Jupyter Notebook. You are here implies that you have already set up Jupyter (which includes python). For python tutorials and documentation, visit https://www.python.org/. \n",
    "\n",
    "##### Basic Arithmetic Functions\n",
    "Example 1: Using basic arithmetic operators and functions (*, /, //, %, **, pow, round, complex, conjugate)"
   ]
  },
  {
   "cell_type": "code",
   "execution_count": 1,
   "metadata": {},
   "outputs": [
    {
     "name": "stdout",
     "output_type": "stream",
     "text": [
      "2\n",
      "2 4 8\n",
      "8.0\n",
      "1.6\n",
      "1 4\n",
      "64 31.006276680299816\n",
      "3 4.0\n",
      "31.142\n",
      "(2+11j)\n",
      "(2-11j)\n"
     ]
    }
   ],
   "source": [
    "# %matplotlib inline\n",
    "import numpy as np\n",
    "from math import *\n",
    "\n",
    "# This code block introduces some basic math functions. \n",
    "# anything to the right of # sign means it is a comment. Python simply ignores it.\n",
    "# To run this code, simply click on the Run button at the top.\n",
    "#\n",
    "x = 2                     # outputs nothing but internally assigns the value 2 to the variable x.\n",
    "print(x)                  # outputs 2. print() is a function that outputs the value of the variable within the brackets ().\n",
    "print(x, x**2, x**3)      # since x is assigned the value 2, this line outputs 2, 4 and 8.\n",
    "print(pow(x,3))           # same as x**3. pow is library function.\n",
    "x = 8/5                   # division produces the answer as a floating point number.\n",
    "print(x)                  # will print 1.6.\n",
    "print(9//5, 9%5)          # a//b is the integer part & a%b is the remainder of the division.\n",
    "print(8**2, pi**3)        # outputs 64 (8-squared and pi-cubed).\n",
    "x, y = int(pi), float(4)  # double assignment. x <-- integer part of pi and y <-- 4.0.\n",
    "print(x, y)               # will print 3 and 4.0.\n",
    "x = round(31.14159, 3)    # rounds to 3 decimal digits.\n",
    "print(x)\n",
    "x = complex(2, 11)        # complex number 2 + 11j\n",
    "print(x)\n",
    "y = x.conjugate()         # complex conjugate of x.\n",
    "print(y)"
   ]
  },
  {
   "cell_type": "markdown",
   "metadata": {},
   "source": [
    "##### Trig, Hyperbolic and Special Functions\n",
    "\n",
    "Example 2: Calculate trig functions like sine, cosine, etc. We can also calculate hyperbolic functions like sinh, cosh and special functions like error function, gamma function, etc. See https://docs.python.org/3/library/math.html for documentation."
   ]
  },
  {
   "cell_type": "code",
   "execution_count": 2,
   "metadata": {},
   "outputs": [
    {
     "name": "stdout",
     "output_type": "stream",
     "text": [
      "We will calculate trigometric functions for an angle.\n",
      "\n",
      "What is the angle in degrees? >> 22\n",
      "Degrees:  22.0 Radians:  0.384\n",
      "Sine:  0.375\n",
      "Cosine:  0.927\n",
      "Tangent:  0.404\n",
      "Cosh:  1.075\n",
      "\n",
      "\n",
      "Gamma:  0.886226925452758       error function 0.9661051464753108\n"
     ]
    }
   ],
   "source": [
    "import math\n",
    "\n",
    "# Print something for the user\n",
    "print('We will calculate trigometric functions for an angle.\\n')     # printing a string and a newline.\n",
    "\n",
    "# Ask for a value for the angle. whatever the value user inputs, it is stored in the variable angle.\n",
    "angle = input('What is the angle in degrees? >> ') \n",
    "\n",
    "# By default, angle will be a string type, so we convert it to float.\n",
    "a = float(angle)\n",
    "\n",
    "arad = math.radians(a)                  # convert to radians first.\n",
    "sine = math.sin(arad)\n",
    "cosine = math.cos(arad)\n",
    "tangent = math.tan(arad)\n",
    "cosh = math.cosh(arad)\n",
    "\n",
    "# Now we calculate some special functions.\n",
    "gamma = math.gamma(1.5)                 # Caution: If you try to evaluate Gamma function at 0 or any negative integer, \n",
    "                                        # you will get a domain error message.\n",
    "error_function = math.erf(1.5)\n",
    "#                            \n",
    "print('Degrees: ', a, 'Radians: ', round(arad,3))\n",
    "print('Sine: ', round(sine,3))\n",
    "print('Cosine: ', round(cosine,3))\n",
    "print('Tangent: ', round(tangent,3))     # If the value of tan(angle) is infinite, it will come out as a very large value.\n",
    "print('Cosh: ', round(cosh,3))\n",
    "print('\\n')\n",
    "print('Gamma: ', gamma, '      error function', error_function)\n",
    "\n",
    "# Note that inside the print statement I have used both strings (within quotes like 'Degrees: ') and floats.\n",
    "# See details in the section on string manipulations."
   ]
  },
  {
   "cell_type": "markdown",
   "metadata": {},
   "source": [
    "##### Conditional Statements\n",
    "\n",
    "Example 3: 'if....else' statement"
   ]
  },
  {
   "cell_type": "code",
   "execution_count": 3,
   "metadata": {},
   "outputs": [
    {
     "name": "stdout",
     "output_type": "stream",
     "text": [
      "x =  0.3201679889888911 y =  0.39690353520888644 z =  0.6767205709723875  x is less than y\n",
      "x+y is > z \n"
     ]
    }
   ],
   "source": [
    "# Using 'if...else' statements. Note the indentation after the \"if\" and the \"else\" statements.\n",
    "import math\n",
    "from random import random\n",
    "\n",
    "# First, we generate 3 random numbers (by calling the function random()) and assign them to x, y and z.\n",
    "x, y, z = random(), random(), random() \n",
    "\n",
    "# Now we use the 'if...else' statements to check their relative values\n",
    "if x < y:\n",
    "    print(\"x = \",x, \"y = \", y, \"z = \", z, \" x is less than y\")\n",
    "else:\n",
    "    print(\"x = \",x, \"y = \", y, \"z = \", z, \" x is >= y \")\n",
    "if x+y <= z:\n",
    "    print(\"x+y is less than or equal to z\")\n",
    "else:\n",
    "    print(\"x+y is > z \")"
   ]
  },
  {
   "cell_type": "markdown",
   "metadata": {},
   "source": [
    "##### Basic String Manipulations\n",
    "\n",
    "A string is a bunch of characters like 'arunabha' or 'i am happy'. In physics we rarely need this for computation but it is good to know for producing nice readable outputs or graphs. \n",
    "\n",
    "Example 3: Basic String Manipulation"
   ]
  },
  {
   "cell_type": "code",
   "execution_count": 4,
   "metadata": {},
   "outputs": [
    {
     "name": "stdout",
     "output_type": "stream",
     "text": [
      "arunabha\n",
      "is happy\n",
      "arunabha is happy\n",
      "a\n",
      "h\n",
      "runa\n",
      "May 2019 bring u peace & joy!\n",
      "8\n"
     ]
    },
    {
     "data": {
      "text/plain": [
       "'3.141592653589793'"
      ]
     },
     "execution_count": 4,
     "metadata": {},
     "output_type": "execute_result"
    }
   ],
   "source": [
    "word = 'arunabha'                        # assigns the value arunabha to the string variable word\n",
    "print(word)                              # outputs the value of the variable word\n",
    "word_2 = 'is happy'\n",
    "print(word_2)\n",
    "print(word + ' ' + word_2)               # you can add (concatenate) strings together. I inserted a blank space.\n",
    "print(word[0])                           # outputs the 1st character in word (comp sci guys are strange. They count from 0.)\n",
    "print(word[6])                           # outputs the 7th character in word.\n",
    "print(word[1:5])                         # outputs a sub-string (2nd thru 6th characters).\n",
    "print('May 2019 bring u peace & joy!')   # prints the entire string.\n",
    "x = len(word)                            # the function len() counts the length of the string\n",
    "print(x)\n",
    "y = str(pi)                              # the function str converts a float to a string.\n",
    "y                                        # now y is a string 3.141...; if you try y = y + 1.0, you will get an error message."
   ]
  },
  {
   "cell_type": "markdown",
   "metadata": {},
   "source": [
    "##### Loops\n",
    "\n",
    "Example 4: 'for' and 'while' loops"
   ]
  },
  {
   "cell_type": "code",
   "execution_count": 5,
   "metadata": {},
   "outputs": [
    {
     "name": "stdout",
     "output_type": "stream",
     "text": [
      "0.2348\n",
      "0.5443\n",
      "0.8599\n",
      "===== another use of 'for' loop\n",
      "amy 3\n",
      "bill 4\n",
      "casper 6\n",
      "dominick 8\n",
      "===== Fibonacci sequence using 'while' loop\n",
      "0 1 1 2 3 5 8 13 21 34 55 89 144 233 377 610 987 "
     ]
    }
   ],
   "source": [
    "# 'for' and 'while' loops\n",
    "import math\n",
    "from random import random\n",
    "    \n",
    "# We use the 'for' loop to generate a few random numbers  \n",
    "for i in range(3):\n",
    "    print(round(random(),4))\n",
    "    \n",
    "# We can use the 'for' loop to print names from a list\n",
    "print(\"===== another use of 'for' loop\")\n",
    "names = ['amy', 'bill', 'casper', 'dominick']\n",
    "for w in names:\n",
    "    print(w, len(w))                        # len() gives the length of the string\n",
    "    \n",
    "# If you don't know a priori how long your loop is going to be, you might want to use \n",
    "# the 'while' loop. The looping stops when a preset condition is met.\n",
    "# We will generate the Fibonacci sequence upto some integer N.\n",
    "# Fibonacci sequence is given by a(n) = a(n-1) + a(n-2), a(0) = 0, a(1) = 1.\n",
    "print(\"===== Fibonacci sequence using 'while' loop\")\n",
    "a, b = 0, 1\n",
    "while a < 1000:                             # we put the upper limit to 1000\n",
    "    print(a, end = ' ')                     # prints the output in one line \n",
    "    c = a+b\n",
    "    a = b\n",
    "    b = c"
   ]
  },
  {
   "cell_type": "markdown",
   "metadata": {},
   "source": [
    "##### A physics example using arithmetic operators, 'if...else' statements & some string manipulations\n",
    "\n",
    "Example 5: Comparing the pressure of a gas using the Ideal Gas equation & Redlich-Kwong equation. The code uses some basic math operators and conditionals."
   ]
  },
  {
   "cell_type": "code",
   "execution_count": 6,
   "metadata": {},
   "outputs": [
    {
     "name": "stdout",
     "output_type": "stream",
     "text": [
      "The ideal gas pressure of air: 13.136 atm\n",
      "The Redlich-Kwong pressure of air: 13.181 atm\n",
      "The percentage difference is: 0.34 %\n"
     ]
    }
   ],
   "source": [
    "# In thermal physics, the pressure P, the volume V and the temperature T are related \n",
    "# by the famous Ideal Gas Law (IGL): PV = nRT. IGL is good for low pressure (and \n",
    "# therefore low density) situations. For higher pressure, there are improved equations\n",
    "# of state such as Van der Waal (VdW) equation and Redlich-Kwong (RK) equation. In this\n",
    "# example we cmpare IGL with RK for air. Note we are not using MKS (SI) units.\n",
    "# n = number of mole = 1\n",
    "R = 0.0821  # universal gas constant in L-atm/K\n",
    "T = 800     # K (Kelvin)\n",
    "V = 5       # L/mol\n",
    "Pc = 37.4   # critical pressure of air in atm\n",
    "Tc = 132.6  # Critical temeparute of air in K\n",
    "\n",
    "# Compute the values of a and b in RK equation. For details, see\n",
    "# https://en.wikipedia.org/wiki/Redlich%E2%80%93Kwong_equation_of_state\n",
    "\n",
    "a = 0.427 * pow(R,2) * pow(Tc,2.5) / Pc\n",
    "b = 0.0866 * R * Tc / Pc\n",
    "\n",
    "# Compute pressure in atm using ideal gas law\n",
    "P_ig = R * T / V\n",
    "# Compute pressure in atm using RK equation of state\n",
    "P_rk = R * T / (V-b) - a/(V*(V+b)*pow(T,0.5))\n",
    "\n",
    "# I could convert the pressure to Pa but why bother?\n",
    "# check that P/Pc < T/(2Tc); otherwise RK equation is not applicable.\n",
    "\n",
    "if P_rk/Pc < T/(2*Tc):\n",
    "    print(\"The ideal gas pressure of air: \" + str(round(P_ig,3)) + \" atm\")\n",
    "    print(\"The Redlich-Kwong pressure of air: \" + str(round(P_rk,3)) + \" atm\")\n",
    "    print(\"The percentage difference is:\", round(100*(P_rk/P_ig - 1),2),\"%\")\n",
    "else:\n",
    "    print(\"The ideal gas pressure of air: \" + str(round(P_ig,3)) + \" atm\")\n",
    "    print(\"The Redlich-Kwong equation of state for air is INVALID\")\n",
    "\n",
    "# Note that inside the print statement I have used + to concatenate (add) 3 strings.\n",
    "# See details in the next section on string manipulation.\n",
    " "
   ]
  },
  {
   "cell_type": "markdown",
   "metadata": {},
   "source": [
    "##### Plotting Graphs\n",
    "\n",
    "Here we will discuss how to draw simple graphs.\n",
    "\n",
    "Example 6: Plotting the displacement of a damped SHO vs. time."
   ]
  },
  {
   "cell_type": "code",
   "execution_count": 7,
   "metadata": {},
   "outputs": [
    {
     "data": {
      "text/plain": [
       "<Figure size 640x480 with 1 Axes>"
      ]
     },
     "metadata": {},
     "output_type": "display_data"
    }
   ],
   "source": [
    "# we calculate the displacement of a damped SHO as a funtion of time and plot the result.\n",
    "# the formula is a = a0*exp(-t/tdecay)*cos(2*pi*f0*t)\n",
    "# See any undergrad text or https://farside.ph.utexas.edu/teaching/315/Waves/node10.html for details.\n",
    "\n",
    "# Import the plotting and math packages\n",
    "import matplotlib.pyplot as plt\n",
    "import math\n",
    "\n",
    "# Define the constants in the problem\n",
    "f0 = 5.         # natural frequency of the oscillator\n",
    "a0 = 100.       # initial amplitude\n",
    "tdecay = 2.     # decay constant (due to damping)\n",
    "\n",
    "# We are doing a x-y plot, so create empty placeholder lists for the (x,y) data\n",
    "time = []                           # will be along x-axis\n",
    "displacement = []                   # will be along y-axis\n",
    "\n",
    "# Calculate the data and append to the lists (using a 'for' loop)\n",
    "for i in range(0, 10000, 1):\n",
    "  t = 0.001 * float(i) \n",
    "  a = a0 * math.exp(-t/tdecay)*math.cos(2. * math.pi * f0 * t)\n",
    "  time.append(t)\n",
    "  displacement.append(a)\n",
    "\n",
    "x = tuple(time)\n",
    "y = tuple(displacement)\n",
    "\n",
    "# Create an x-y plot of the data with labeled axes\n",
    "\n",
    "plt.figure().canvas.set_window_title('Damped Oscillator')\n",
    "plt.xlabel('Time')\n",
    "plt.ylabel('Displacement')\n",
    "plt.title('A Damped Oscillator')\n",
    "\n",
    "oscillator = plt.plot(x,y)\n",
    "plt.xlim(0.,10.)                          # this sets up the range of the x-axis\n",
    "plt.ylim(-150.,150.)                      # this is the range of the y-axis\n",
    "\n",
    "plt.setp(oscillator, color='m', linewidth=1.5)\n",
    "plt.minorticks_on()\n",
    "\n",
    "# Save the plot as .png file for future use.\n",
    "fname = 'damped_sho.png'\n",
    "plt.savefig(fname)\n",
    "\n",
    "# fname = 'oscillator300.png'   --> these two lines are for high resolution png file\n",
    "# plt.savefig(fname,dpi=300)\n",
    "# fname = 'oscillator.pdf'      --> these two lines are for pdf output file\n",
    "# plt.savefig(fname)\n",
    "\n",
    "# Show the data\n",
    "plt.show()"
   ]
  },
  {
   "cell_type": "markdown",
   "metadata": {},
   "source": [
    "##### Plotting 2 graphs together\n",
    "\n",
    "Here we will discuss how to overplot one graph on top of another.\n",
    "\n",
    "Example 7: Same as example above, with overplotting."
   ]
  },
  {
   "cell_type": "code",
   "execution_count": 8,
   "metadata": {},
   "outputs": [
    {
     "data": {
      "image/png": "[encoded data removed]",
      "text/plain": [
       "<Figure size 432x288 with 1 Axes>"
      ]
     },
     "metadata": {
      "needs_background": "light"
     },
     "output_type": "display_data"
    }
   ],
   "source": [
    "# This is the same example as above except we draw the exponential amplitude decay envelope\n",
    "# on top of the displacement curve.\n",
    "\n",
    "# Import the plotting and math packages\n",
    "import matplotlib.pyplot as plt\n",
    "import math\n",
    "\n",
    "# Define initial constants\n",
    "f0 = 5.\n",
    "a0 = 1.\n",
    "tdecay = 2.\n",
    "\n",
    "# Create lists for the (x,y) data\n",
    "time = []\n",
    "cos_amplitude = []\n",
    "exp_amplitude = []\n",
    "displacement = []\n",
    "\n",
    "# Calculate the data and append to the lists\n",
    "for i in range(0, 10000, 1):\n",
    "  t = 0.001 * float(i) \n",
    "  a1 = math.cos(2. * math.pi * f0 * t)\n",
    "  a2 = math.exp(-t/tdecay)\n",
    "  a = a1*a2\n",
    "  time.append(t)\n",
    "  cos_amplitude.append(a1)\n",
    "  exp_amplitude.append(a2)                             # this is the decay envelope\n",
    "  displacement.append(a)                               # this is the displacement of the oscillator\n",
    "\n",
    "# Create an x-y plot of the data with labeled axes, plot colors and line widths\n",
    "plt.xlabel('Time')\n",
    "plt.ylabel('Displacement')\n",
    "plt.title('A Damped Oscillator')\n",
    "plt.plot(time,exp_amplitude, color='red', linestyle='solid', label='Decay envelope', linewidth=1.5)\n",
    "plt.plot(time,displacement, color='blue', linestyle='solid', marker='None', label='Damped SHO Displacement', linewidth=1.5)\n",
    "\n",
    "plt.legend()\n",
    "\n",
    "plt.minorticks_on()\n",
    "\n",
    "plt.tick_params(which='major', length=7)\n",
    "plt.tick_params(which='minor', length=4, color='r')  \n",
    "\n",
    "\n",
    "# Show the data\n",
    "plt.show()"
   ]
  },
  {
   "cell_type": "markdown",
   "metadata": {},
   "source": [
    "##### Curve fitting (linear plus exponential)\n",
    "\n",
    "Example 8: We will fit a curve (y = mx + b + c*e^x) to data with random noise. You can define your own function.This also works for polynomials like a*x^3 + b*x^2 + c*x + d, etc. "
   ]
  },
  {
   "cell_type": "code",
   "execution_count": 9,
   "metadata": {},
   "outputs": [
    {
     "name": "stdout",
     "output_type": "stream",
     "text": [
      "best fit parameters: [2.91198856 2.23025219 0.50356189]\n"
     ]
    },
    {
     "data": {
      "image/png": "[encoded data removed]",
      "text/plain": [
       "<Figure size 432x288 with 1 Axes>"
      ]
     },
     "metadata": {
      "needs_background": "light"
     },
     "output_type": "display_data"
    }
   ],
   "source": [
    "import numpy as np\n",
    "from scipy.optimize import curve_fit\n",
    "import matplotlib.pyplot as plt\n",
    "\n",
    "# Create a function to fit with. We are using a linear fit.\n",
    "def my_func(x,m,b,c):\n",
    "  return m*x + b + c*np.exp(x)\n",
    "\n",
    "# Import your data into a np array yn for x if you have experimenatl data.\n",
    "# Here we generate sample data by calling my_func that we defined and then add some gaussian noise.\n",
    "\n",
    "x = np.linspace(0,5,100)                              # we are drawing 100 equispaced values from 0 to 5\n",
    "y = my_func(x, 3.0, 2.0, 0.5)                         # we set y to the finction 3x + 2 + 0.5*e^x\n",
    "yn = y + 0.9 * np.random.normal(0.0,1.0,size=len(x))  # to y, we add gaussian noise (amplitude 0.9, mean 0 and std. dev 1)\n",
    "\n",
    "# Call curve_fit\n",
    "popt, pcov = curve_fit(my_func, x, yn)                # curve_fit is a module in scipy.optimize that fits the data set\n",
    "                                                      # (x, yn) to the given function using non-linear least square\n",
    "                                                      # fit. popt is the array of best fit parameter values and pcov is the\n",
    "                                                      # 2D array representing the covariance matrix.\n",
    "\n",
    "print(\"best fit parameters:\",popt)                    # Best fit values are returned as popt\n",
    "\n",
    "mfit, bfit, cfit = popt\n",
    "\n",
    "# Calculating the fitted values for the same x\n",
    "yfit = my_func(x, mfit, bfit, cfit)\n",
    "\n",
    "# Create an x-y plot with labeled axes\n",
    "plt.xlabel('X')\n",
    "plt.ylabel('Y')\n",
    "plt.title('Sample Curve Fit')\n",
    "plt.plot(x, yn,   color='red', linestyle='None', marker='.',label='Data')\n",
    "plt.plot(x, yfit, color='blue', linestyle='solid', marker='None', label='Fit', linewidth=1.5)\n",
    "plt.legend()\n",
    "plt.minorticks_on()\n",
    "plt.show()"
   ]
  },
  {
   "cell_type": "markdown",
   "metadata": {},
   "source": [
    "### To read and write CSV files\n",
    "\n",
    "Example 9: This is an example of how to write the output in a csv file and how to read the input from a csv file."
   ]
  },
  {
   "cell_type": "code",
   "execution_count": 10,
   "metadata": {},
   "outputs": [
    {
     "name": "stdout",
     "output_type": "stream",
     "text": [
      "[[0.2636261571987214, 0.03843319567682535, 0.19212088628282487, 0.8810269216564052, 0.10674254067973443], [0.6651702403638778, 0.19313835940540913, 0.26881866990169967, 0.7842939265408749, 0.7653526270702701], [0.2513125906346275, 0.585831694613516, 0.11134681459325468, 0.4909249191592371, 0.16432968378956214], [0.5244780417947801, 0.7636102231019577, 0.9061855538252852, 0.6913853856395638, 0.8813362678983663], [0.3973776558475004, 0.9752877902430385, 0.8325616409771448, 0.9655263396783869, 0.8644792052357212], [0.0093782526785946, 0.20111061378621664, 0.5887972252840732, 0.24693019160015894, 0.1671771495194423], [0.6932637282660714, 0.04817410117827636, 0.8834274468245086, 0.8356547667254378, 0.7339478692337084], [0.2213303298774867, 0.8724604856458151, 0.12118364064018683, 0.9791928210474201, 0.303205920960383], [0.18075485106438616, 0.859342096653364, 0.19537050679871548, 0.33752357840011427, 0.5894039359057248], [0.34016561871387296, 0.7967316295141255, 0.997074425451787, 0.8975900122847063, 0.7032018061570805]]\n"
     ]
    }
   ],
   "source": [
    "import random, time\n",
    "random.seed(time.time())\n",
    "data = []\n",
    "for i in range(10):\n",
    "    row = []\n",
    "    for j in range(5):\n",
    "        row.append(random.random())\n",
    "    data.append(row)\n",
    "print(data)"
   ]
  },
  {
   "cell_type": "code",
   "execution_count": 11,
   "metadata": {},
   "outputs": [],
   "source": [
    "import csv\n",
    "f = open(\"example.csv\", \"w\", newline='')\n",
    "writer = csv.writer(f)\n",
    "for row in data:\n",
    "    writer.writerow(map(str, row))\n",
    "f.close()"
   ]
  },
  {
   "cell_type": "code",
   "execution_count": 12,
   "metadata": {},
   "outputs": [
    {
     "name": "stdout",
     "output_type": "stream",
     "text": [
      "[[0.2636261571987214, 0.03843319567682535, 0.19212088628282487, 0.8810269216564052, 0.10674254067973443], [0.6651702403638778, 0.19313835940540913, 0.26881866990169967, 0.7842939265408749, 0.7653526270702701], [0.2513125906346275, 0.585831694613516, 0.11134681459325468, 0.4909249191592371, 0.16432968378956214], [0.5244780417947801, 0.7636102231019577, 0.9061855538252852, 0.6913853856395638, 0.8813362678983663], [0.3973776558475004, 0.9752877902430385, 0.8325616409771448, 0.9655263396783869, 0.8644792052357212], [0.0093782526785946, 0.20111061378621664, 0.5887972252840732, 0.24693019160015894, 0.1671771495194423], [0.6932637282660714, 0.04817410117827636, 0.8834274468245086, 0.8356547667254378, 0.7339478692337084], [0.2213303298774867, 0.8724604856458151, 0.12118364064018683, 0.9791928210474201, 0.303205920960383], [0.18075485106438616, 0.859342096653364, 0.19537050679871548, 0.33752357840011427, 0.5894039359057248], [0.34016561871387296, 0.7967316295141255, 0.997074425451787, 0.8975900122847063, 0.7032018061570805]]\n"
     ]
    }
   ],
   "source": [
    "tmp = []\n",
    "f = open(\"example.csv\", \"r\", newline='')\n",
    "reader = csv.reader(f)\n",
    "for row in reader:\n",
    "    tmp.append([float(element) for element in row])\n",
    "print(tmp)"
   ]
  },
  {
   "cell_type": "code",
   "execution_count": 13,
   "metadata": {},
   "outputs": [
    {
     "name": "stdout",
     "output_type": "stream",
     "text": [
      "True\n"
     ]
    }
   ],
   "source": [
    "print(data==tmp)                         # this just makes sure the input is read properly."
   ]
  }
 ],
 "metadata": {
  "kernelspec": {
   "display_name": "Python 3",
   "language": "python",
   "name": "python3"
  },
  "language_info": {
   "codemirror_mode": {
    "name": "ipython",
    "version": 3
   },
   "file_extension": ".py",
   "mimetype": "text/x-python",
   "name": "python",
   "nbconvert_exporter": "python",
   "pygments_lexer": "ipython3",
   "version": "3.7.1"
  }
 },
 "nbformat": 4,
 "nbformat_minor": 1
}
